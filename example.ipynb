{
 "cells": [
  {
   "cell_type": "code",
   "execution_count": 6,
   "metadata": {},
   "outputs": [],
   "source": [
    "library(tidyverse)\n",
    "library(data.table)\n",
    "library(magrittr)\n",
    "library(harmony)\n",
    "library(singlecellmethods)"
   ]
  },
  {
   "cell_type": "code",
   "execution_count": 3,
   "metadata": {},
   "outputs": [],
   "source": [
    "normalizeData <- function(A, scaling_factor = 1e4, do_ftt = FALSE) {\n",
    "\tA@x <- A@x / rep.int(Matrix::colSums(A), diff(A@p))\n",
    "    A@x <- scaling_factor * A@x\n",
    "    if (do_ftt) {\n",
    "        A@x <- sqrt(A@x) + sqrt(1 + A@x)\n",
    "    } else {\n",
    "        A@x <- log(1 + A@x)\n",
    "    }\n",
    "\treturn(A)\n",
    "}"
   ]
  },
  {
   "cell_type": "code",
   "execution_count": 4,
   "metadata": {},
   "outputs": [],
   "source": [
    "# X <- Matrix::t(harmony::ctrl.sparse)\n",
    "X <- Matrix::cbind2(harmony::ctrl.sparse, harmony::stim.sparse)\n",
    "X %<>% normalizeData()\n",
    "X_ctrl <- normalizeData(harmony::ctrl.sparse)\n",
    "X_stim <- normalizeData(harmony::stim.sparse)"
   ]
  },
  {
   "cell_type": "code",
   "execution_count": 5,
   "metadata": {},
   "outputs": [
    {
     "data": {
      "text/plain": [
       "   user  system elapsed \n",
       "  0.910   0.121   1.033 "
      ]
     },
     "metadata": {},
     "output_type": "display_data"
    },
    {
     "data": {
      "text/html": [
       "<table>\n",
       "<thead><tr><th scope=col>symbol</th><th scope=col>group</th><th scope=col>gene_mean</th><th scope=col>gene_dispersion</th></tr></thead>\n",
       "<tbody>\n",
       "\t<tr><td>HBB      </td><td>stim     </td><td>4.1808181</td><td>8.741350 </td></tr>\n",
       "\t<tr><td>HBB      </td><td>ctrl     </td><td>4.0482791</td><td>8.721871 </td></tr>\n",
       "\t<tr><td>IGLL5    </td><td>stim     </td><td>0.7199632</td><td>7.981911 </td></tr>\n",
       "\t<tr><td>HBA2     </td><td>ctrl     </td><td>2.7746718</td><td>7.428170 </td></tr>\n",
       "\t<tr><td>HBA2     </td><td>stim     </td><td>2.8167331</td><td>7.379681 </td></tr>\n",
       "\t<tr><td>HBG1     </td><td>ctrl     </td><td>0.4015790</td><td>7.132338 </td></tr>\n",
       "</tbody>\n",
       "</table>\n"
      ],
      "text/latex": [
       "\\begin{tabular}{r|llll}\n",
       " symbol & group & gene\\_mean & gene\\_dispersion\\\\\n",
       "\\hline\n",
       "\t HBB       & stim      & 4.1808181 & 8.741350 \\\\\n",
       "\t HBB       & ctrl      & 4.0482791 & 8.721871 \\\\\n",
       "\t IGLL5     & stim      & 0.7199632 & 7.981911 \\\\\n",
       "\t HBA2      & ctrl      & 2.7746718 & 7.428170 \\\\\n",
       "\t HBA2      & stim      & 2.8167331 & 7.379681 \\\\\n",
       "\t HBG1      & ctrl      & 0.4015790 & 7.132338 \\\\\n",
       "\\end{tabular}\n"
      ],
      "text/markdown": [
       "\n",
       "symbol | group | gene_mean | gene_dispersion | \n",
       "|---|---|---|---|---|---|\n",
       "| HBB       | stim      | 4.1808181 | 8.741350  | \n",
       "| HBB       | ctrl      | 4.0482791 | 8.721871  | \n",
       "| IGLL5     | stim      | 0.7199632 | 7.981911  | \n",
       "| HBA2      | ctrl      | 2.7746718 | 7.428170  | \n",
       "| HBA2      | stim      | 2.8167331 | 7.379681  | \n",
       "| HBG1      | ctrl      | 0.4015790 | 7.132338  | \n",
       "\n",
       "\n"
      ],
      "text/plain": [
       "  symbol group gene_mean gene_dispersion\n",
       "1 HBB    stim  4.1808181 8.741350       \n",
       "2 HBB    ctrl  4.0482791 8.721871       \n",
       "3 IGLL5  stim  0.7199632 7.981911       \n",
       "4 HBA2   ctrl  2.7746718 7.428170       \n",
       "5 HBA2   stim  2.8167331 7.379681       \n",
       "6 HBG1   ctrl  0.4015790 7.132338       "
      ]
     },
     "metadata": {},
     "output_type": "display_data"
    }
   ],
   "source": [
    "system.time({\n",
    "    .res <- findVariableGenes(X, c(rep(\"ctrl\", ncol(harmony::ctrl.sparse)), rep(\"stim\", ncol(harmony::stim.sparse))))\n",
    "#     .res <- findVariableGenes(X_ctrl, rep(0, ncol(X_ctrl)))\n",
    "})\n",
    "\n",
    ".res %>% head"
   ]
  },
  {
   "cell_type": "markdown",
   "metadata": {},
   "source": [
    "# kmeans"
   ]
  },
  {
   "cell_type": "code",
   "execution_count": 2,
   "metadata": {},
   "outputs": [],
   "source": [
    "fig.size <- function (height, width) {\n",
    "    options(repr.plot.height = height, repr.plot.width = width)\n",
    "}\n",
    "library(mvtnorm)\n",
    "library(tidyverse)"
   ]
  },
  {
   "cell_type": "code",
   "execution_count": 4,
   "metadata": {},
   "outputs": [],
   "source": [
    "Rcpp::sourceCpp('src/kmeans.cpp')"
   ]
  },
  {
   "cell_type": "code",
   "execution_count": 5,
   "metadata": {},
   "outputs": [],
   "source": [
    "## colums are observations\n",
    "soft_kmeans <- function(X, k, max_iter=20, sigma=0.1) {\n",
    "    message('WARNING: soft_kmeans fxn uses cosine distance only')\n",
    "    Z <- cosine_normalize_cpp(X, 2)\n",
    "    Y <- stats::kmeans(t(Z), centers = k, iter.max = 25, nstart = 10)$centers %>% t() ## D x K\n",
    "    res <- soft_kmeans_cpp(Y, Z, max_iter, sigma)\n",
    "    return(res)\n",
    "}"
   ]
  },
  {
   "cell_type": "code",
   "execution_count": 6,
   "metadata": {},
   "outputs": [
    {
     "name": "stderr",
     "output_type": "stream",
     "text": [
      "WARNING: soft_kmeans fxn uses cosine distance only\n"
     ]
    },
    {
     "data": {
      "image/png": "[encoded data removed]",
      "text/plain": [
       "plot without title"
      ]
     },
     "metadata": {},
     "output_type": "display_data"
    }
   ],
   "source": [
    "X <- rbind(\n",
    "    rmvnorm(100, mean = c(1, .5), sigma = diag(.1, 2)),\n",
    "    rmvnorm(100, mean = c(-1, -1), sigma = diag(.1, 2)),\n",
    "    rmvnorm(100, mean = c(-1, 1), sigma = diag(.01, 2))\n",
    ") %>% \n",
    "    cosine_normalize_cpp(1) %>% \n",
    "    t()\n",
    "\n",
    "res <- soft_kmeans(X, 21)\n",
    "data.table(t(X)) %>% \n",
    "    ggplot(aes(V1, V2)) + geom_point(shape = 21) + \n",
    "    geom_point(data = data.table(t(res$Y)), color = 'red', shape = 21, size = 3)"
   ]
  },
  {
   "cell_type": "code",
   "execution_count": null,
   "metadata": {},
   "outputs": [],
   "source": []
  },
  {
   "cell_type": "code",
   "execution_count": null,
   "metadata": {},
   "outputs": [],
   "source": [
    "\n",
    "\n",
    "\n",
    "\n",
    "\n",
    "\n",
    "\n",
    "\n",
    "\n",
    "\n",
    "\n",
    "\n",
    "\n",
    "\n",
    "\n",
    "\n",
    "\n",
    "\n",
    "\n",
    "\n",
    "\n",
    "\n",
    "\n",
    "\n",
    "\n",
    "\n"
   ]
  }
 ],
 "metadata": {
  "kernelspec": {
   "display_name": "R",
   "language": "R",
   "name": "ir"
  },
  "language_info": {
   "codemirror_mode": "r",
   "file_extension": ".r",
   "mimetype": "text/x-r-source",
   "name": "R",
   "pygments_lexer": "r",
   "version": "3.6.1"
  }
 },
 "nbformat": 4,
 "nbformat_minor": 4
}
