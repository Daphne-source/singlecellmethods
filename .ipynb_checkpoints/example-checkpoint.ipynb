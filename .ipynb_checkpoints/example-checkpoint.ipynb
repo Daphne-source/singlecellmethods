{
 "cells": [
  {
   "cell_type": "code",
   "execution_count": 2,
   "metadata": {},
   "outputs": [],
   "source": [
    "library(Rcpp)\n",
    "library(tidyverse)\n",
    "library(data.table)\n",
    "library(magrittr)\n",
    "library(harmony)\n",
    "library(singlecellmethods)"
   ]
  },
  {
   "cell_type": "code",
   "execution_count": 3,
   "metadata": {},
   "outputs": [],
   "source": [
    "normalizeData <- function(A, scaling_factor = 1e4, do_ftt = FALSE) {\n",
    "\tA@x <- A@x / rep.int(Matrix::colSums(A), diff(A@p))\n",
    "    A@x <- scaling_factor * A@x\n",
    "    if (do_ftt) {\n",
    "        A@x <- sqrt(A@x) + sqrt(1 + A@x)\n",
    "    } else {\n",
    "        A@x <- log(1 + A@x)\n",
    "    }\n",
    "\treturn(A)\n",
    "}"
   ]
  },
  {
   "cell_type": "code",
   "execution_count": 4,
   "metadata": {},
   "outputs": [],
   "source": [
    "# X <- Matrix::t(harmony::ctrl.sparse)\n",
    "X <- Matrix::cbind2(harmony::ctrl.sparse, harmony::stim.sparse)\n",
    "X %<>% normalizeData()\n",
    "X_ctrl <- normalizeData(harmony::ctrl.sparse)\n",
    "X_stim <- normalizeData(harmony::stim.sparse)"
   ]
  },
  {
   "cell_type": "code",
   "execution_count": 5,
   "metadata": {},
   "outputs": [
    {
     "ename": "ERROR",
     "evalue": "Error in .Call(\"_singlecellmethods_exp_mean\", PACKAGE = \"singlecellmethods\", : \"_singlecellmethods_exp_mean\" not available for .Call() for package \"singlecellmethods\"\n",
     "output_type": "error",
     "traceback": [
      "Error in .Call(\"_singlecellmethods_exp_mean\", PACKAGE = \"singlecellmethods\", : \"_singlecellmethods_exp_mean\" not available for .Call() for package \"singlecellmethods\"\nTraceback:\n",
      "1. system.time({\n .     .res <- findVariableGenes(X, c(rep(\"ctrl\", ncol(harmony::ctrl.sparse)), \n .         rep(\"stim\", ncol(harmony::stim.sparse))))\n . })",
      "2. findVariableGenes(X, c(rep(\"ctrl\", ncol(harmony::ctrl.sparse)), \n .     rep(\"stim\", ncol(harmony::stim.sparse))))   # at line 2 of file <text>",
      "3. exp_mean(X@x, X@p, X@i, ncol(X), nrow(X), groups_int, groups_table)"
     ]
    },
    {
     "name": "stderr",
     "output_type": "stream",
     "text": [
      "Timing stopped at: 0.022 0 0.022\n"
     ]
    }
   ],
   "source": [
    "system.time({\n",
    "    .res <- findVariableGenes(X, c(rep(\"ctrl\", ncol(harmony::ctrl.sparse)), rep(\"stim\", ncol(harmony::stim.sparse))))\n",
    "#     .res <- findVariableGenes(X_ctrl, rep(0, ncol(X_ctrl)))\n",
    "})\n",
    "\n",
    ".res %>% head"
   ]
  },
  {
   "cell_type": "code",
   "execution_count": 10,
   "metadata": {},
   "outputs": [
    {
     "ename": "ERROR",
     "evalue": "Error in .Call(\"_singlecellmethods_exp_mean\", PACKAGE = \"singlecellmethods\", : \"_singlecellmethods_exp_mean\" not available for .Call() for package \"singlecellmethods\"\n",
     "output_type": "error",
     "traceback": [
      "Error in .Call(\"_singlecellmethods_exp_mean\", PACKAGE = \"singlecellmethods\", : \"_singlecellmethods_exp_mean\" not available for .Call() for package \"singlecellmethods\"\nTraceback:\n",
      "1. singlecellmethods:::exp_mean(5, 5, 5, 5, 5, 5, 5)"
     ]
    }
   ],
   "source": [
    "singlecellmethods:::exp_mean(5, 5, 5, 5, 5, 5, 5)"
   ]
  },
  {
   "cell_type": "code",
   "execution_count": null,
   "metadata": {},
   "outputs": [],
   "source": []
  },
  {
   "cell_type": "code",
   "execution_count": null,
   "metadata": {},
   "outputs": [],
   "source": []
  },
  {
   "cell_type": "code",
   "execution_count": null,
   "metadata": {},
   "outputs": [],
   "source": [
    "\n",
    "\n",
    "\n",
    "\n",
    "\n",
    "\n",
    "\n",
    "\n",
    "\n",
    "\n",
    "\n",
    "\n",
    "\n",
    "\n",
    "\n",
    "\n",
    "\n",
    "\n",
    "\n",
    "\n",
    "\n",
    "\n",
    "\n",
    "\n",
    "\n",
    "\n"
   ]
  }
 ],
 "metadata": {
  "kernelspec": {
   "display_name": "R",
   "language": "R",
   "name": "ir"
  },
  "language_info": {
   "codemirror_mode": "r",
   "file_extension": ".r",
   "mimetype": "text/x-r-source",
   "name": "R",
   "pygments_lexer": "r",
   "version": "3.5.1"
  }
 },
 "nbformat": 4,
 "nbformat_minor": 2
}
