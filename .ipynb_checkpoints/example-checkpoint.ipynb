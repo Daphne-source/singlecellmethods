{
 "cells": [
  {
   "cell_type": "code",
   "execution_count": 17,
   "metadata": {},
   "outputs": [
    {
     "name": "stderr",
     "output_type": "stream",
     "text": [
      "Downloading GitHub repo immunogenomics/singlecellmethods@master\n"
     ]
    },
    {
     "name": "stdout",
     "output_type": "stream",
     "text": [
      "\n",
      "✔  checking for file ‘/tmp/Rtmp5RveiH/remotesc9632d589451/immunogenomics-singlecellmethods-071799e2e1dcd5a6da9010f2335519a233b3aa58/DESCRIPTION’\n",
      "─  preparing ‘singlecellmethods’:\n",
      "✔  checking DESCRIPTION meta-information\n",
      "─  cleaning src\n",
      "─  checking for LF line-endings in source and make files and shell scripts\n",
      "─  checking for empty or unneeded directories\n",
      "─  building ‘singlecellmethods_0.1.0.tar.gz’\n",
      "   Warning: invalid uid value replaced by that for user 'nobody'\n",
      "   \n"
     ]
    },
    {
     "ename": "ERROR",
     "evalue": "Error in i.p(...): (converted from warning) installation of package ‘/tmp/Rtmp5RveiH/filec96362e2cbe5/singlecellmethods_0.1.0.tar.gz’ had non-zero exit status\n",
     "output_type": "error",
     "traceback": [
      "Error in i.p(...): (converted from warning) installation of package ‘/tmp/Rtmp5RveiH/filec96362e2cbe5/singlecellmethods_0.1.0.tar.gz’ had non-zero exit status\nTraceback:\n",
      "1. devtools::install_github(\"immunogenomics/singlecellmethods\", \n .     auth_token = \"c3d2b3349a38a60ef5a3edc8cb2199350312592c\")",
      "2. install_remotes(remotes, auth_token = auth_token, host = host, \n .     dependencies = dependencies, upgrade = upgrade, force = force, \n .     quiet = quiet, build = build, build_opts = build_opts, repos = repos, \n .     type = type, ...)",
      "3. vapply(remotes, install_remote, ..., FUN.VALUE = character(1))",
      "4. FUN(X[[i]], ...)",
      "5. install(source, dependencies = dependencies, upgrade = upgrade, \n .     force = force, quiet = quiet, build = build, build_opts = build_opts, \n .     repos = repos, type = type, ...)",
      "6. safe_install_packages(pkgdir, repos = NULL, quiet = quiet, type = \"source\", \n .     ...)",
      "7. with_envvar(c(R_LIBS = lib, R_LIBS_USER = lib, R_LIBS_SITE = lib), \n .     if (should_error_for_warnings()) {\n .         with_options(list(warn = 2), with_rprofile_user(\"options(warn = 2)\", \n .             i.p(...)))\n .     } else {\n .         i.p(...)\n .     })",
      "8. force(code)",
      "9. with_options(list(warn = 2), with_rprofile_user(\"options(warn = 2)\", \n .     i.p(...)))",
      "10. force(code)",
      "11. with_rprofile_user(\"options(warn = 2)\", i.p(...))",
      "12. with_envvar(c(R_PROFILE_USER = temp_rprofile), {\n  .     force(code)\n  . })",
      "13. force(code)",
      "14. force(code)",
      "15. i.p(...)",
      "16. warning(gettextf(\"installation of package %s had non-zero exit status\", \n  .     sQuote(update[i, 1L])), domain = NA)",
      "17. .signalSimpleWarning(\"installation of package ‘/tmp/Rtmp5RveiH/filec96362e2cbe5/singlecellmethods_0.1.0.tar.gz’ had non-zero exit status\", \n  .     quote(i.p(...)))",
      "18. withRestarts({\n  .     .Internal(.signalCondition(simpleWarning(msg, call), msg, \n  .         call))\n  .     .Internal(.dfltWarn(msg, call))\n  . }, muffleWarning = function() NULL)",
      "19. withOneRestart(expr, restarts[[1L]])",
      "20. doWithOneRestart(return(expr), restart)"
     ]
    }
   ],
   "source": [
    "devtools::install_github(\"immunogenomics/singlecellmethods\", auth_token = \"c3d2b3349a38a60ef5a3edc8cb2199350312592c\")"
   ]
  },
  {
   "cell_type": "code",
   "execution_count": null,
   "metadata": {},
   "outputs": [],
   "source": [
    "library(Rcpp)\n",
    "library(tidyverse)\n",
    "library(data.table)\n",
    "library(magrittr)\n",
    "library(harmony)\n",
    "library(singlecellmethods)"
   ]
  },
  {
   "cell_type": "code",
   "execution_count": 7,
   "metadata": {},
   "outputs": [],
   "source": [
    "normalizeData <- function(A, scaling_factor = 1e4, do_ftt = FALSE) {\n",
    "\tA@x <- A@x / rep.int(Matrix::colSums(A), diff(A@p))\n",
    "    A@x <- scaling_factor * A@x\n",
    "    if (do_ftt) {\n",
    "        A@x <- sqrt(A@x) + sqrt(1 + A@x)\n",
    "    } else {\n",
    "        A@x <- log(1 + A@x)\n",
    "    }\n",
    "\treturn(A)\n",
    "}"
   ]
  },
  {
   "cell_type": "code",
   "execution_count": 8,
   "metadata": {},
   "outputs": [],
   "source": [
    "# X <- Matrix::t(harmony::ctrl.sparse)\n",
    "X <- Matrix::cbind2(harmony::ctrl.sparse, harmony::stim.sparse)\n",
    "X %<>% normalizeData()\n",
    "X_ctrl <- normalizeData(harmony::ctrl.sparse)\n",
    "X_stim <- normalizeData(harmony::stim.sparse)"
   ]
  },
  {
   "cell_type": "code",
   "execution_count": 2,
   "metadata": {},
   "outputs": [],
   "source": [
    "findVariableGenes <- function(X, groups, min_expr = .1, max_expr = Inf, \n",
    "                              min_dispersion = 0, max_dispersion = Inf, return_top_n = 0) {\n",
    "    ## TODO: check that groups are 0 indexed\n",
    "    groups <- factor(groups)\n",
    "    groups_int <- as.integer(factor(groups)) - 1\n",
    "    groups_table <- table(groups_int)\n",
    "    \n",
    "    ## initially compute means in non-log space, to use in vmr function below\n",
    "    means_nonlog <- exp_mean(X@x, X@p, X@i, ncol(X), nrow(X), groups_int, groups_table)\n",
    "    colnames(means_nonlog) <- levels(groups)\n",
    "    row.names(means_nonlog) <- row.names(X)\n",
    "    \n",
    "    vmr <- log_vmr(X@x, X@p, X@i, ncol(X), nrow(X), means_nonlog, groups_int, groups_table)    \n",
    "    colnames(vmr) <- levels(groups)\n",
    "    row.names(vmr) <- row.names(X)\n",
    "    \n",
    "    ## transform means to logspace and join means and VMR  \n",
    "    vargenes_df <- dplyr::inner_join(\n",
    "        means_nonlog %>% log1p %>% as.data.frame() %>% \n",
    "            tibble::rownames_to_column(\"symbol\") %>% \n",
    "            tidyr::gather(group, gene_mean, -symbol),\n",
    "        vmr %>% as.data.frame() %>% \n",
    "            tibble::rownames_to_column(\"symbol\") %>% \n",
    "            tidyr::gather(group, gene_dispersion, -symbol), \n",
    "        by = c(\"symbol\", \"group\")\n",
    "    ) %>% \n",
    "        dplyr::arrange(-gene_dispersion) %>% \n",
    "        subset(gene_mean >= min_expr & gene_mean <= max_expr) %>%\n",
    "        subset(gene_dispersion >= min_dispersion & gene_dispersion <= max_dispersion)    \n",
    "    \n",
    "    if (return_top_n > 0) {\n",
    "        vargenes_union <- unique(data.table(vargenes_df)[, head(.SD, return_top_n), by = group][, symbol])\n",
    "        return(vargenes_union)\n",
    "    } else {\n",
    "        return(vargenes_df)\n",
    "    }\n",
    "    \n",
    "}\n",
    "\n"
   ]
  },
  {
   "cell_type": "code",
   "execution_count": 16,
   "metadata": {},
   "outputs": [
    {
     "data": {
      "text/plain": [
       "   user  system elapsed \n",
       "  1.033   0.124   1.119 "
      ]
     },
     "metadata": {},
     "output_type": "display_data"
    },
    {
     "data": {
      "text/html": [
       "<table>\n",
       "<thead><tr><th scope=col>symbol</th><th scope=col>group</th><th scope=col>gene_mean</th><th scope=col>gene_dispersion</th></tr></thead>\n",
       "<tbody>\n",
       "\t<tr><td>HBB      </td><td>stim     </td><td>4.1808174</td><td>8.741350 </td></tr>\n",
       "\t<tr><td>HBB      </td><td>ctrl     </td><td>4.0482790</td><td>8.721870 </td></tr>\n",
       "\t<tr><td>IGLL5    </td><td>stim     </td><td>0.7199632</td><td>7.981912 </td></tr>\n",
       "\t<tr><td>HBA2     </td><td>ctrl     </td><td>2.7746720</td><td>7.428169 </td></tr>\n",
       "\t<tr><td>HBA2     </td><td>stim     </td><td>2.8167332</td><td>7.379681 </td></tr>\n",
       "\t<tr><td>HBG1     </td><td>ctrl     </td><td>0.4015790</td><td>7.132339 </td></tr>\n",
       "</tbody>\n",
       "</table>\n"
      ],
      "text/latex": [
       "\\begin{tabular}{r|llll}\n",
       " symbol & group & gene\\_mean & gene\\_dispersion\\\\\n",
       "\\hline\n",
       "\t HBB       & stim      & 4.1808174 & 8.741350 \\\\\n",
       "\t HBB       & ctrl      & 4.0482790 & 8.721870 \\\\\n",
       "\t IGLL5     & stim      & 0.7199632 & 7.981912 \\\\\n",
       "\t HBA2      & ctrl      & 2.7746720 & 7.428169 \\\\\n",
       "\t HBA2      & stim      & 2.8167332 & 7.379681 \\\\\n",
       "\t HBG1      & ctrl      & 0.4015790 & 7.132339 \\\\\n",
       "\\end{tabular}\n"
      ],
      "text/markdown": [
       "\n",
       "symbol | group | gene_mean | gene_dispersion | \n",
       "|---|---|---|---|---|---|\n",
       "| HBB       | stim      | 4.1808174 | 8.741350  | \n",
       "| HBB       | ctrl      | 4.0482790 | 8.721870  | \n",
       "| IGLL5     | stim      | 0.7199632 | 7.981912  | \n",
       "| HBA2      | ctrl      | 2.7746720 | 7.428169  | \n",
       "| HBA2      | stim      | 2.8167332 | 7.379681  | \n",
       "| HBG1      | ctrl      | 0.4015790 | 7.132339  | \n",
       "\n",
       "\n"
      ],
      "text/plain": [
       "  symbol group gene_mean gene_dispersion\n",
       "1 HBB    stim  4.1808174 8.741350       \n",
       "2 HBB    ctrl  4.0482790 8.721870       \n",
       "3 IGLL5  stim  0.7199632 7.981912       \n",
       "4 HBA2   ctrl  2.7746720 7.428169       \n",
       "5 HBA2   stim  2.8167332 7.379681       \n",
       "6 HBG1   ctrl  0.4015790 7.132339       "
      ]
     },
     "metadata": {},
     "output_type": "display_data"
    }
   ],
   "source": [
    "system.time({\n",
    "    .res <- findVariableGenes(X, c(rep(\"ctrl\", ncol(harmony::ctrl.sparse)), rep(\"stim\", ncol(harmony::stim.sparse))))\n",
    "#     .res <- findVariableGenes(X_ctrl, rep(0, ncol(X_ctrl)))\n",
    "})\n",
    "\n",
    ".res %>% head"
   ]
  },
  {
   "cell_type": "code",
   "execution_count": null,
   "metadata": {},
   "outputs": [],
   "source": []
  },
  {
   "cell_type": "code",
   "execution_count": null,
   "metadata": {},
   "outputs": [],
   "source": []
  },
  {
   "cell_type": "code",
   "execution_count": null,
   "metadata": {},
   "outputs": [],
   "source": [
    "\n",
    "\n",
    "\n",
    "\n",
    "\n",
    "\n",
    "\n",
    "\n",
    "\n",
    "\n",
    "\n",
    "\n",
    "\n",
    "\n",
    "\n",
    "\n",
    "\n",
    "\n",
    "\n",
    "\n",
    "\n",
    "\n",
    "\n",
    "\n",
    "\n",
    "\n"
   ]
  }
 ],
 "metadata": {
  "kernelspec": {
   "display_name": "R",
   "language": "R",
   "name": "ir"
  },
  "language_info": {
   "codemirror_mode": "r",
   "file_extension": ".r",
   "mimetype": "text/x-r-source",
   "name": "R",
   "pygments_lexer": "r",
   "version": "3.5.1"
  }
 },
 "nbformat": 4,
 "nbformat_minor": 2
}
