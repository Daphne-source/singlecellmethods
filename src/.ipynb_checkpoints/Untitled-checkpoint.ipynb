{
 "cells": [
  {
   "cell_type": "code",
   "execution_count": 1,
   "metadata": {},
   "outputs": [
    {
     "name": "stderr",
     "output_type": "stream",
     "text": [
      "   [[ suppressing 10 column names ‘AAACCTGAGTACGACG’, ‘AAACCTGAGTGCCAGA’, ‘AAACCTGAGTGGGCTA’ ... ]]\n"
     ]
    },
    {
     "data": {
      "text/plain": [
       "6 x 10 sparse Matrix of class \"dgCMatrix\"\n",
       "                                                                             \n",
       "CD127-GTGTGTTGTCCTATG       1.1734231 1.1415245 1.0392278 0.1848215 0.3407540\n",
       "CD152-ATGGTTCACGTAATC       0.8593929 0.5755619 0.3286306 0.5755619 1.0802187\n",
       "CD161-GTACGCAGTCCTTCT       .         0.5469337 .         0.7380821 1.7460038\n",
       "CD183/CXCR3-GCGATGGTAGATTAT 0.3333575 0.9487907 0.7203033 0.6539772 0.8410587\n",
       "CD194/CCR4-AGCTTACCTGCACGA  0.1990845 0.1044884 .         1.1978523 0.1044884\n",
       "CD195/CCR5-CCAAAGTAAGAGCCA  0.2603470 0.5558662 0.5558662 0.5558662 1.2606551\n",
       "                                                                            \n",
       "CD127-GTGTGTTGTCCTATG       0.4104588 1.2634333 0.7966159 1.141525 1.0392278\n",
       "CD152-ATGGTTCACGTAATC       1.2042892 0.6793838 0.5755619 1.587325 0.1777548\n",
       "CD161-GTACGCAGTCCTTCT       1.7137376 1.3163544 0.6470682 1.099230 1.4529616\n",
       "CD183/CXCR3-GCGATGGTAGATTAT 0.8963748 0.6539772 0.9487907 1.291335 0.5064623\n",
       "CD194/CCR4-AGCTTACCTGCACGA  .         0.1990845 0.5715432 1.999893 0.5073328\n",
       "CD195/CCR5-CCAAAGTAAGAGCCA  0.2603470 0.4667235 0.8493861 1.341588 0.6377088"
      ]
     },
     "metadata": {},
     "output_type": "display_data"
    },
    {
     "name": "stderr",
     "output_type": "stream",
     "text": [
      "   [[ suppressing 10 column names ‘AAACCTGAGTACGACG’, ‘AAACCTGAGTGCCAGA’, ‘AAACCTGAGTGGGCTA’ ... ]]\n"
     ]
    },
    {
     "data": {
      "text/plain": [
       "6 x 10 sparse Matrix of class \"dgCMatrix\"\n",
       "                                                                             \n",
       "CD127-GTGTGTTGTCCTATG       1.1691512 1.1373147 1.0352312 0.1837795 0.3389703\n",
       "CD152-ATGGTTCACGTAATC       0.8593092 0.5754984 0.3285900 0.5754984 1.0801228\n",
       "CD161-GTACGCAGTCCTTCT       .         0.5458087 .         0.7366880 1.7437980\n",
       "CD183/CXCR3-GCGATGGTAGATTAT 0.3332904 0.9486456 0.7201818 0.6538635 0.8409240\n",
       "CD194/CCR4-AGCTTACCTGCACGA  0.1981894 0.1039966 .         1.1943858 0.1039966\n",
       "CD195/CCR5-CCAAAGTAAGAGCCA  0.2605689 0.5562789 0.5562789 0.5562789 1.2613485\n",
       "                                                                            \n",
       "CD127-GTGTGTTGTCCTATG       0.4083789 1.2589964 0.7932209 1.137315 1.0352312\n",
       "CD152-ATGGTTCACGTAATC       1.2041876 0.6793122 0.5754984 1.587209 0.1777311\n",
       "CD161-GTACGCAGTCCTTCT       1.7115472 1.3143991 0.6457958 1.097448 1.4509148\n",
       "CD183/CXCR3-GCGATGGTAGATTAT 0.8962346 0.6538635 0.9486456 1.291164 0.5063682\n",
       "CD194/CCR4-AGCTTACCTGCACGA  .         0.1981894 0.5693830 1.995599 0.5053586\n",
       "CD195/CCR5-CCAAAGTAAGAGCCA  0.2605689 0.4670845 0.8499400 1.342302 0.6381651"
      ]
     },
     "metadata": {},
     "output_type": "display_data"
    }
   ],
   "source": [
    "library(Matrix)\n",
    "library(singlecellmethods)\n",
    "library(data.table)\n",
    "adt_count_1 <- read.csv(\"/data/srlab/bwh10x/181114_KW6277_10x_rawbcl/181114_KW6277_10x_BRI-086/citeseq_count_filter_1.csv\", row.names = 1)\n",
    "adt_exprs_raw <- Matrix(as.matrix(adt_count_1[-nrow(adt_count_1),]), sparse = T)\n",
    "load(\"/data/srlab/anathan/TBRU/meta_data_filter.RData\")\n",
    "# normalize, then re-order columns\n",
    "head(singlecellmethods::normalizeData(adt_exprs_raw, method = \"geneCLR\")[, meta_data_filter$cell_id][,1:10])\n",
    "# re-order columns, then normalize\n",
    "head(singlecellmethods::normalizeData(adt_exprs_raw[, meta_data_filter$cell_id], method = \"geneCLR\")[,1:10])"
   ]
  },
  {
   "cell_type": "code",
   "execution_count": null,
   "metadata": {},
   "outputs": [],
   "source": []
  },
  {
   "cell_type": "code",
   "execution_count": 3,
   "metadata": {},
   "outputs": [
    {
     "data": {
      "text/html": [
       "<ol class=list-inline>\n",
       "\t<li>3732</li>\n",
       "\t<li>5</li>\n",
       "</ol>\n"
      ],
      "text/latex": [
       "\\begin{enumerate*}\n",
       "\\item 3732\n",
       "\\item 5\n",
       "\\end{enumerate*}\n"
      ],
      "text/markdown": [
       "1. 3732\n",
       "2. 5\n",
       "\n",
       "\n"
      ],
      "text/plain": [
       "[1] 3732    5"
      ]
     },
     "metadata": {},
     "output_type": "display_data"
    },
    {
     "data": {
      "text/html": [
       "<ol class=list-inline>\n",
       "\t<li>32</li>\n",
       "\t<li>3755</li>\n",
       "</ol>\n"
      ],
      "text/latex": [
       "\\begin{enumerate*}\n",
       "\\item 32\n",
       "\\item 3755\n",
       "\\end{enumerate*}\n"
      ],
      "text/markdown": [
       "1. 32\n",
       "2. 3755\n",
       "\n",
       "\n"
      ],
      "text/plain": [
       "[1]   32 3755"
      ]
     },
     "metadata": {},
     "output_type": "display_data"
    }
   ],
   "source": [
    "dim(meta_data_filter)\n",
    "dim(adt_exprs_raw)"
   ]
  }
 ],
 "metadata": {
  "kernelspec": {
   "display_name": "R",
   "language": "R",
   "name": "ir"
  },
  "language_info": {
   "codemirror_mode": "r",
   "file_extension": ".r",
   "mimetype": "text/x-r-source",
   "name": "R",
   "pygments_lexer": "r",
   "version": "3.5.1"
  }
 },
 "nbformat": 4,
 "nbformat_minor": 2
}
